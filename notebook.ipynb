{
 "cells": [
  {
   "cell_type": "code",
   "execution_count": 1,
   "metadata": {},
   "outputs": [],
   "source": [
    "from langchain.embeddings.openai import OpenAIEmbeddings\n",
    "from langchain.vectorstores import Chroma\n",
    "from langchain.text_splitter import CharacterTextSplitter\n",
    "from langchain.llms import OpenAI\n",
    "from langchain.chains import RetrievalQA\n"
   ]
  },
  {
   "cell_type": "code",
   "execution_count": 2,
   "metadata": {},
   "outputs": [
    {
     "name": "stderr",
     "output_type": "stream",
     "text": [
      "Using embedded DuckDB without persistence: data will be transient\n"
     ]
    }
   ],
   "source": [
    "import glob\n",
    "from langchain.document_loaders import UnstructuredPDFLoader\n",
    "\n",
    "loaders = []\n",
    "documents = []\n",
    "\n",
    "for pdf_filepath in glob.iglob(\"docs/PDFs/*.pdf\"):\n",
    "    pdf_loader = UnstructuredPDFLoader(pdf_filepath)\n",
    "    documents += pdf_loader.load()\n",
    "\n",
    "text_splitter = CharacterTextSplitter(chunk_size=1000, chunk_overlap=0)\n",
    "texts = text_splitter.split_documents(documents)\n",
    "\n",
    "embeddings = OpenAIEmbeddings()\n",
    "docsearch = Chroma.from_documents(texts, embeddings)\n"
   ]
  },
  {
   "cell_type": "code",
   "execution_count": 7,
   "metadata": {},
   "outputs": [],
   "source": [
    "qa = RetrievalQA.from_chain_type(\n",
    "    llm=OpenAI(),\n",
    "    chain_type=\"stuff\",\n",
    "    retriever=docsearch.as_retriever(),\n",
    "    return_source_documents=True,\n",
    ")\n"
   ]
  },
  {
   "cell_type": "code",
   "execution_count": 8,
   "metadata": {},
   "outputs": [],
   "source": [
    "query = \"Vị trí và chức năng của cảnh sát cơ động trong luật cảnh sát cơ động 2022\"\n",
    "result = qa({\"query\": query})\n"
   ]
  },
  {
   "cell_type": "code",
   "execution_count": 9,
   "metadata": {},
   "outputs": [
    {
     "data": {
      "text/plain": [
       "' Cảnh sát cơ động được xem là một phần của lực lượng công an nhân dân, họ được yêu cầu thực hiện nhiệm vụ, quyền hạn và trách nhiệm đã được giao. Các nhiệm vụ bao gồm: phòng, chống khủng bố, bắt cóc con tin, chiếm đoạt tàu bay, tàu thủy, tộ phạm có tổ chức, tội phạm x'"
      ]
     },
     "execution_count": 9,
     "metadata": {},
     "output_type": "execute_result"
    }
   ],
   "source": [
    "result[\"result\"]"
   ]
  },
  {
   "cell_type": "code",
   "execution_count": 10,
   "metadata": {},
   "outputs": [
    {
     "data": {
      "text/plain": [
       "[Document(page_content='Đ i ề u 3. V ị trí, ch ứ c n ă ng c ủ a C ả nh sát c ơ độ ng\\n\\nĐ i ề u 4. Nguyên t ắ c ho ạ t độ ng c ủ a C ả nh sát c ơ độ ng\\n\\n1. Đặ t d ướ i s ự lãnh đạ o tuy ệ t đố i, tr ự c ti ế p v ề m ọ i m ặ t c ủ a Đả ng C ộ ng s ả n Vi ệ t Nam, s ự th ố ng l ĩ nh c ủ a Ch ủ t ị ch n ướ c, s ự th ố ng nh ấ t qu ả n lý nhà n ướ c c ủ a Chính ph ủ và s ự ch ỉ đạ o, ch ỉ huy, qu ả n lý tr ự c ti ế p c ủ a B ộ tr ưở ng B ộ Công an.\\n\\n2. Tuân th ủ Hi ế n pháp, pháp lu ậ t Vi ệ t Nam và đ i ề u ướ c qu ố c t ế mà n ướ c C ộ ng hòa xã h ộ i ch ủ ngh ĩ a Vi ệ t Nam là thành viên.\\n\\n3. D ự a vào Nhân dân, phát huy s ứ c m ạ nh c ủ a Nhân dân và ch ị u s ự giám sát ủ a Nhân dân; b ả o v ệ l ợ i ích c ủ a Nhà n ướ c, quy ề n và l ợ i ích h ợ p pháp c ủ a c ơ quan, t ổ ch ứ c, cá nhân theo quy đị nh c ủ a pháp lu ậ t.\\n\\n4. K ế t h ợ p ch ặ t ch ẽ bi ệ n pháp v ũ trang v ớ i các bi ệ n pháp công tác khác c ủ a l ự c ượ ng Công an nhân dân trong th ự c hi ệ n ch ứ c n ă ng, nhi ệ m v ụ đượ c giao.', metadata={'source': 'docs/PDFs/2022-luat-canh-sat-co-dong.pdf'}),\n",
       " Document(page_content='c) Phòng, ch ố ng kh ủ ng b ố , b ắ t cóc con tin, chi ế m đ o ạ t tàu bay, tàu th ủ y, t ộ ph ạ m có t ổ ch ứ c, t ộ i ph ạ m xuyên qu ố c gia; tìm ki ế m, c ứ u n ạ n, c ứ u h ộ ;\\n\\nd) Các n ộ i dung h ợ p tác khác trong ph ạ m vi nhi ệ m v ụ , quy ề n h ạ n c ủ a C ả nh sát c ơ độ ng.\\n\\nĐ i ề u 8. Các hành vi b ị nghiêm c ấ m\\n\\nsát c ơ độ ng trong thi hành công v ụ ho ặ c vì lý do công v ụ .\\n\\nđộ ng làm trái v ớ i nhi ệ m v ụ , quy ề n h ạ n đượ c giao.\\n\\n4. Gi ả danh cán b ộ , chi ế n s ĩ C ả nh sát c ơ độ ng; gi ả m ạ o ph ươ ng ti ệ n, làm gi ả , mua bán, s ử d ụ ng trái phép trang ph ụ c, phù hi ệ u, con d ấ u, gi ấ y ch ứ ng nh ậ n công\\n\\n5. Cán b ộ , chi ế n s ĩ C ả nh sát c ơ độ ng l ạ m d ụ ng, l ợ i d ụ ng ch ứ c v ụ , quy ề n h ạ n, v ị trí công tác để vi ph ạ m pháp lu ậ t, xâm ph ạ m quy ề n và l ợ i ích h ợ p pháp c ủ a c ơ quan, t ổ ch ứ c, cá nhân ho ặ c có hành vi sách nhi ễ u, gây khó kh ă n đố i v ớ i c ơ quan,', metadata={'source': 'docs/PDFs/2022-luat-canh-sat-co-dong.pdf'}),\n",
       " Document(page_content='C Ộ NG HÒA XÃ H Ộ I CH Ủ NGH Ĩ A VI Ệ T NAM Độ c l ậ p - T ự do - H ạ nh phúc\\n\\nC ă n c ứ Hi ế n pháp n ướ c C ộ ng hòa xã h ộ i ch ủ ngh ĩ a Vi ệ t Nam;\\n\\nQu ố c h ộ i ban hành Lu ậ t C ả nh sát c ơ độ ng.\\n\\nNH Ữ NG QUY ĐỊ NH CHUNG\\n\\nLu ậ t này quy đị nh v ề v ị trí, ch ứ c n ă ng, nhi ệ m v ụ , quy ề n h ạ n, t ổ ch ứ c và ho ạ t độ ng c ủ a C ả nh sát c ơ độ ng; b ả o đả m đ i ề u ki ệ n ho ạ t độ ng, ch ế độ , chính sách đố i v ớ i C ả nh sát c ơ độ ng; trách nhi ệ m c ủ a c ơ quan, t ổ ch ứ c, cá nhân có\\n\\nTrong Lu ậ t này, các t ừ ng ữ d ướ i đ ây đượ c hi ể u nh ư sau:\\n\\n1. Bi ệ n pháp v ũ trang là cách th ứ c, ph ươ ng pháp s ử d ụ ng s ứ c m ạ nh tinh th ầ n, th ể ch ấ t, v ũ khí, v ậ t li ệ u n ổ , công c ụ h ỗ tr ợ , ph ươ ng ti ệ n, thi ế t b ị k ỹ thu ậ t nghi ệ v ụ để C ả nh sát c ơ độ ng th ự c hi ệ n ch ứ c n ă ng, nhi ệ m v ụ , quy ề n h ạ n.\\n\\n2. Cán b ộ , chi ế n s ĩ C ả nh sát c ơ độ ng bao g ồ m s ĩ quan, h ạ s ĩ quan, chi ế n s ĩ thu ộ c C ả nh sát c ơ độ ng.', metadata={'source': 'docs/PDFs/2022-luat-canh-sat-co-dong.pdf'}),\n",
       " Document(page_content='1. Ban hành, trình c ấ p có th ẩ m quy ề n ban hành và t ổ ch ứ c th ự c hi ệ n chi ế n ượ c, chính sách, pháp lu ậ t v ề C ả nh sát c ơ độ ng.\\n\\nl ượ c, chính sách, pháp lu ậ t v ề C ả nh sát c ơ độ ng.\\n\\n2. T ổ ch ứ c, ch ỉ đạ o ho ạ t độ ng c ủ a C ả nh sát c ơ độ ng.\\n\\nT ổ ch ứ c, ch ỉ đạ o ho ạ t độ ng c ủ a C ả nh sát c ơ độ ng.\\n\\nTuyên truy ề n, ph ổ bi ế n, giáo d ụ c pháp lu ậ t v ề C ả nh sát c ơ độ ng.\\n\\nTuy ể n ch ọ n, đ ào t ạ o, b ồ i d ưỡ ng cán b ộ , chi ế n s ĩ C ả nh sát c ơ độ ng.\\n\\nTh ự c hi ệ n ch ế độ , chính sách đố i v ớ i C ả nh sát c ơ độ ng.\\n\\n5. Th ự c hi ệ n ch ế độ , chính sách đố i v ớ i C ả nh sát c ơ độ ng.\\n\\n6. Ki ể m tra, thanh tra, gi ả i quy ế t khi ế u n ạ i, t ố cáo; s ơ k ế t, t ổ ng k ế t, khen th ưở ng, x ử lý vi ph ạ m pháp lu ậ t trong ho ạ t độ ng c ủ a C ả nh sát c ơ độ ng.\\n\\nĐ i ề u 29. Trách nhi ệ m qu ả n lý nhà n ướ c đố i v ớ i C ả nh sát c ơ độ ng', metadata={'source': 'docs/PDFs/2022-luat-canh-sat-co-dong.pdf'})]"
      ]
     },
     "execution_count": 10,
     "metadata": {},
     "output_type": "execute_result"
    }
   ],
   "source": [
    "result[\"source_documents\"]"
   ]
  }
 ],
 "metadata": {
  "kernelspec": {
   "display_name": "V3",
   "language": "python",
   "name": "python3"
  },
  "language_info": {
   "codemirror_mode": {
    "name": "ipython",
    "version": 3
   },
   "file_extension": ".py",
   "mimetype": "text/x-python",
   "name": "python",
   "nbconvert_exporter": "python",
   "pygments_lexer": "ipython3",
   "version": "3.11.2"
  },
  "orig_nbformat": 4
 },
 "nbformat": 4,
 "nbformat_minor": 2
}
