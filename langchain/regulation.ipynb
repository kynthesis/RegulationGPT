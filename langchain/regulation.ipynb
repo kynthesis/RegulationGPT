{
 "cells": [
  {
   "cell_type": "code",
   "execution_count": 1,
   "metadata": {},
   "outputs": [],
   "source": [
    "import os\n",
    "\n",
    "import openai\n",
    "import chromadb\n",
    "import langchain\n",
    "\n",
    "from langchain.embeddings.openai import OpenAIEmbeddings\n",
    "from langchain.vectorstores import Chroma\n",
    "from langchain.text_splitter import TokenTextSplitter\n",
    "from langchain.llms import OpenAI\n",
    "from langchain.chains import ChatVectorDBChain\n",
    "from langchain.document_loaders import UnstructuredWordDocumentLoader\n"
   ]
  },
  {
   "cell_type": "code",
   "execution_count": 5,
   "metadata": {},
   "outputs": [],
   "source": [
    "persist_directory = \"/home/khoa/dev/RegulationGPT/chroma/08_duongbo\"\n"
   ]
  },
  {
   "cell_type": "code",
   "execution_count": 6,
   "metadata": {},
   "outputs": [
    {
     "name": "stdout",
     "output_type": "stream",
     "text": [
      "convert /home/khoa/dev/RegulationGPT/docs/18_bienvn.doc -> /tmp/tmp9oqge7j_/18_bienvn.docx using filter : MS Word 2007 XML\n"
     ]
    }
   ],
   "source": [
    "regulation_file_path = \"docs/08_duongbo.doc\"\n",
    "loader = UnstructuredWordDocumentLoader(file_path=regulation_file_path)\n",
    "regulation_data = loader.load()\n"
   ]
  },
  {
   "cell_type": "code",
   "execution_count": 8,
   "metadata": {},
   "outputs": [
    {
     "name": "stderr",
     "output_type": "stream",
     "text": [
      "Using embedded DuckDB with persistence: data will be stored in: /home/khoa/dev/RegulationGPT/chroma/18_bienvn\n"
     ]
    }
   ],
   "source": [
    "text_splitter = TokenTextSplitter(chunk_size=1000, chunk_overlap=0)\n",
    "regulation_doc = text_splitter.split_documents(regulation_data)\n",
    "\n",
    "embeddings = OpenAIEmbeddings()\n",
    "vectordb = Chroma.from_documents(\n",
    "    regulation_doc, embeddings, persist_directory=persist_directory\n",
    ")\n",
    "vectordb.persist()\n"
   ]
  },
  {
   "cell_type": "code",
   "execution_count": 9,
   "metadata": {},
   "outputs": [
    {
     "name": "stderr",
     "output_type": "stream",
     "text": [
      "/home/khoa/anaconda3/envs/regulation/lib/python3.11/site-packages/langchain/llms/openai.py:158: UserWarning: You are trying to use a chat model. This way of initializing it is no longer supported. Instead, please use: `from langchain.chat_models import ChatOpenAI`\n",
      "  warnings.warn(\n",
      "/home/khoa/anaconda3/envs/regulation/lib/python3.11/site-packages/langchain/llms/openai.py:667: UserWarning: You are trying to use a chat model. This way of initializing it is no longer supported. Instead, please use: `from langchain.chat_models import ChatOpenAI`\n",
      "  warnings.warn(\n",
      "/home/khoa/anaconda3/envs/regulation/lib/python3.11/site-packages/langchain/chains/conversational_retrieval/base.py:191: UserWarning: `ChatVectorDBChain` is deprecated - please use `from langchain.chains import ConversationalRetrievalChain`\n",
      "  warnings.warn(\n"
     ]
    }
   ],
   "source": [
    "regulation_qa = ChatVectorDBChain.from_llm(\n",
    "    OpenAI(temperature=0, model_name=\"gpt-3.5-turbo\"),\n",
    "    vectordb,\n",
    "    return_source_documents=True,\n",
    ")\n"
   ]
  },
  {
   "cell_type": "code",
   "execution_count": 10,
   "metadata": {},
   "outputs": [],
   "source": [
    "chat_history = []"
   ]
  },
  {
   "cell_type": "code",
   "execution_count": 11,
   "metadata": {},
   "outputs": [],
   "source": [
    "query = \"bao nhiêu tuổi thì được lái xe\"\n",
    "result = regulation_qa({\"question\": query, \"chat_history\": chat_history})\n",
    "\n",
    "chat_history.append(result)"
   ]
  },
  {
   "cell_type": "code",
   "execution_count": 13,
   "metadata": {},
   "outputs": [
    {
     "name": "stdout",
     "output_type": "stream",
     "text": [
      "Điều 22 của Chương III trong Luật Biển Việt Nam quy định về những quy định chung, bao gồm việc tổ chức và cá nhân hoạt động trong vùng biển Việt Nam phải tôn trọng chủ quyền, toàn vẹn lãnh thổ, quyền chủ quyền, quyền tài phán quốc gia và lợi ích quốc gia của Việt Nam, tuân thủ quy định của pháp luật Việt Nam và pháp luật quốc tế có liên quan. Ngoài ra, Luật cũng quy định về việc tôn trọng và bảo hộ quyền và lợi ích hợp pháp của tàu thuyền, tổ chức, cá nhân hoạt động trong vùng biển Việt Nam phù hợp với quy định của pháp luật Việt Nam và điều ước quốc tế mà nước Cộng hòa xã hội chủ nghĩa Việt Nam là thành viên, hợp đồng được ký kết theo quy định của pháp luật Việt Nam hoặc được phép của Chính phủ Việt Nam.\n"
     ]
    }
   ],
   "source": [
    "print(result[\"answer\"])"
   ]
  }
 ],
 "metadata": {
  "kernelspec": {
   "display_name": "regulation",
   "language": "python",
   "name": "python3"
  },
  "language_info": {
   "codemirror_mode": {
    "name": "ipython",
    "version": 3
   },
   "file_extension": ".py",
   "mimetype": "text/x-python",
   "name": "python",
   "nbconvert_exporter": "python",
   "pygments_lexer": "ipython3",
   "version": "3.11.2"
  },
  "orig_nbformat": 4
 },
 "nbformat": 4,
 "nbformat_minor": 2
}
